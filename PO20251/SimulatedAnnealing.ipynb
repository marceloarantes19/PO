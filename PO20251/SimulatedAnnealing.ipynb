{
 "cells": [
  {
   "cell_type": "code",
   "execution_count": 4,
   "metadata": {
    "executionInfo": {
     "elapsed": 4,
     "status": "ok",
     "timestamp": 1747260738539,
     "user": {
      "displayName": "marcelo arantes de Oliveira",
      "userId": "08778662039184606360"
     },
     "user_tz": 180
    },
    "id": "Yqk48nwe5MGe"
   },
   "outputs": [],
   "source": [
    "import random\n",
    "import math"
   ]
  },
  {
   "cell_type": "code",
   "execution_count": 8,
   "metadata": {
    "executionInfo": {
     "elapsed": 11,
     "status": "ok",
     "timestamp": 1747261217321,
     "user": {
      "displayName": "marcelo arantes de Oliveira",
      "userId": "08778662039184606360"
     },
     "user_tz": 180
    },
    "id": "A2ggUMgG6NqO"
   },
   "outputs": [],
   "source": [
    "def getPeso(peso, mochila):\n",
    "    pesoAtual = 0\n",
    "    if len(peso) != len(mochila):\n",
    "        return -1\n",
    "    for i in range(0, len(mochila)):\n",
    "        pesoAtual += peso[i] * int(mochila[i])\n",
    "    return pesoAtual"
   ]
  },
  {
   "cell_type": "code",
   "execution_count": 9,
   "metadata": {
    "executionInfo": {
     "elapsed": 11,
     "status": "ok",
     "timestamp": 1747261219210,
     "user": {
      "displayName": "marcelo arantes de Oliveira",
      "userId": "08778662039184606360"
     },
     "user_tz": 180
    },
    "id": "ZoyVM33D8eMe"
   },
   "outputs": [],
   "source": [
    "def getValor(peso, valor, mochila, C):\n",
    "    valorAtual = 0\n",
    "    if len(peso) != len(mochila):\n",
    "        return -1\n",
    "    for i in range(0, len(mochila)):\n",
    "        valorAtual += valor[i] * int(mochila[i])\n",
    "    return valorAtual if getPeso(peso, mochila) <= C else (-1)*valorAtual"
   ]
  },
  {
   "cell_type": "code",
   "execution_count": 10,
   "metadata": {
    "executionInfo": {
     "elapsed": 19,
     "status": "ok",
     "timestamp": 1747261220602,
     "user": {
      "displayName": "marcelo arantes de Oliveira",
      "userId": "08778662039184606360"
     },
     "user_tz": 180
    },
    "id": "ZeENAO2t4igc"
   },
   "outputs": [],
   "source": [
    "def geraEstadoAleatorio(peso, valor, C):\n",
    "    estadoAtual = random.randint(0, 2 ** len(peso))\n",
    "    mAtual = bin(estadoAtual)[2:].zfill(len(peso))\n",
    "    pAtual = getPeso(peso, mAtual)\n",
    "    while pAtual > C:\n",
    "        estadoAtual = random.randint(0, 2 ** len(peso))\n",
    "        mAtual = bin(estadoAtual)[2:].zfill(len(peso))\n",
    "        pAtual = getPeso(peso, mAtual)\n",
    "    vAtual = getValor(peso, valor, mAtual, C)\n",
    "    return mAtual, pAtual, vAtual\n"
   ]
  },
  {
   "cell_type": "code",
   "execution_count": 12,
   "metadata": {
    "executionInfo": {
     "elapsed": 10,
     "status": "ok",
     "timestamp": 1747261223474,
     "user": {
      "displayName": "marcelo arantes de Oliveira",
      "userId": "08778662039184606360"
     },
     "user_tz": 180
    },
    "id": "MUpqJA1hMXM1"
   },
   "outputs": [],
   "source": [
    "def getDifBits(mAtual, mProxima):\n",
    "    diferenca = 0\n",
    "    if len(mAtual) != len(mProxima):\n",
    "        return len(mAtual) + 1\n",
    "    for i in range(0, len(mAtual)):\n",
    "        if mAtual[i] != mProxima[i]:\n",
    "            diferenca += 1\n",
    "    return diferenca"
   ]
  },
  {
   "cell_type": "code",
   "execution_count": 11,
   "metadata": {
    "executionInfo": {
     "elapsed": 4,
     "status": "ok",
     "timestamp": 1747261221972,
     "user": {
      "displayName": "marcelo arantes de Oliveira",
      "userId": "08778662039184606360"
     },
     "user_tz": 180
    },
    "id": "HWHzpccR9511"
   },
   "outputs": [],
   "source": [
    "def geraVizinhoAleatorio(mAtual, peso, valor, C, temperatura):\n",
    "    retMochila, retPeso, retValor = geraEstadoAleatorio(peso, valor, C)\n",
    "    while getDifBits(mAtual, retMochila) > temperatura:\n",
    "      retMochila, retPeso, retValor = geraEstadoAleatorio(peso, valor, C)\n",
    "    return retMochila, retPeso, retValor"
   ]
  },
  {
   "cell_type": "code",
   "execution_count": 13,
   "metadata": {
    "executionInfo": {
     "elapsed": 3,
     "status": "ok",
     "timestamp": 1747261225216,
     "user": {
      "displayName": "marcelo arantes de Oliveira",
      "userId": "08778662039184606360"
     },
     "user_tz": 180
    },
    "id": "fFS7ZIm8OAn3"
   },
   "outputs": [],
   "source": [
    "def geraAgenda(peso, tamanho):\n",
    "  n = len(peso)\n",
    "  T = []\n",
    "  for t in range(tamanho, 0, -1):\n",
    "    T.append(math.ceil(n-(tamanho-t)*n/tamanho))\n",
    "  return T"
   ]
  },
  {
   "cell_type": "code",
   "execution_count": 14,
   "metadata": {
    "executionInfo": {
     "elapsed": 6,
     "status": "ok",
     "timestamp": 1747261227881,
     "user": {
      "displayName": "marcelo arantes de Oliveira",
      "userId": "08778662039184606360"
     },
     "user_tz": 180
    },
    "id": "zvzofUzH4KU2"
   },
   "outputs": [],
   "source": [
    "def simulatedAnnealing(peso, valor, C, tamanhoAgenda):\n",
    "    mAtual, pAtual, vAtual = geraEstadoAleatorio(peso, valor, C)\n",
    "    mMelhor, pMelhor, vMelhor = mAtual, pAtual, vAtual\n",
    "    T = geraAgenda(peso, tamanhoAgenda)\n",
    "    for t in T:\n",
    "        mProxima, pProxima, vProxima = geraVizinhoAleatorio(mAtual, peso, valor, C, t)\n",
    "        if vProxima > vAtual:\n",
    "            mAtual, pAtual, vAtual = mProxima, pProxima, vProxima\n",
    "            if vProxima > vMelhor:\n",
    "                mMelhor, pMelhor, vMelhor = mProxima, pProxima, vProxima\n",
    "        else:\n",
    "            if random.random() < math.exp((vAtual - vProxima) / t):\n",
    "                mAtual, pAtual, vAtual = mProxima, pProxima, vProxima\n",
    "    return mMelhor, pMelhor, vMelhor"
   ]
  },
  {
   "cell_type": "code",
   "execution_count": 41,
   "metadata": {
    "colab": {
     "base_uri": "https://localhost:8080/"
    },
    "executionInfo": {
     "elapsed": 7,
     "status": "ok",
     "timestamp": 1747261288169,
     "user": {
      "displayName": "marcelo arantes de Oliveira",
      "userId": "08778662039184606360"
     },
     "user_tz": 180
    },
    "id": "iQafV5ZYCbW1",
    "outputId": "4c238d64-7214-4b4f-9c5b-6c9bfe102aa8"
   },
   "outputs": [
    {
     "name": "stdout",
     "output_type": "stream",
     "text": [
      "Mochila 01110010\n",
      "Peso 12\n",
      "Valor 32\n"
     ]
    }
   ],
   "source": [
    "C = 12\n",
    "peso  = [4, 6, 3, 2, 7, 9, 1, 10]\n",
    "valor = [5, 7, 9, 6, 6, 8, 10, 1]\n",
    "mochila, pesoMochila, valorMochila = simulatedAnnealing(peso, valor, C, 100)\n",
    "print(\"Mochila\", mochila)\n",
    "print(\"Peso\", pesoMochila)\n",
    "print(\"Valor\", valorMochila)\n"
   ]
  }
 ],
 "metadata": {
  "colab": {
   "authorship_tag": "ABX9TyOk2pxM3w3TEv1u8QajWAIX",
   "provenance": [
    {
     "file_id": "1xIHeDv6gl7ByW_0-XKXZevfXWMk9vth0",
     "timestamp": 1747249180833
    },
    {
     "file_id": "12U-GWvZ3xgqi9OdE9aE-GyDj881hLGqD",
     "timestamp": 1746656917687
    }
   ]
  },
  "kernelspec": {
   "display_name": "Python 3",
   "name": "python3"
  },
  "language_info": {
   "name": "python"
  }
 },
 "nbformat": 4,
 "nbformat_minor": 0
}
