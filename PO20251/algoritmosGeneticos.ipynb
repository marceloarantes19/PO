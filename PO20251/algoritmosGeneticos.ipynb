{
 "cells": [
  {
   "cell_type": "code",
   "execution_count": 2,
   "id": "6017f786",
   "metadata": {},
   "outputs": [],
   "source": [
    "import math\n",
    "import random"
   ]
  },
  {
   "cell_type": "code",
   "execution_count": null,
   "id": "30feb5b6",
   "metadata": {},
   "outputs": [],
   "source": [
    "def ordena(populacao):\n",
    "  for i in range(0, len(populacao)-1):\n",
    "    for j in range(i+1, len(populacao)):\n",
    "      if populacao[i][2] < populacao[j][2]:\n",
    "        populacao[i], populacao[j] = populacao[j], populacao[i]\n",
    "  return populacao"
   ]
  },
  {
   "cell_type": "code",
   "execution_count": 3,
   "id": "53b46b16",
   "metadata": {},
   "outputs": [],
   "source": [
    "def getPeso(peso, mochila):\n",
    "    pesoAtual = 0\n",
    "    if len(peso) != len(mochila):\n",
    "        return -1\n",
    "    for i in range(0, len(mochila)):\n",
    "        pesoAtual += peso[i] * int(mochila[i])\n",
    "    return pesoAtual"
   ]
  },
  {
   "cell_type": "code",
   "execution_count": 4,
   "id": "4a36e44e",
   "metadata": {},
   "outputs": [],
   "source": [
    "def getValor(peso, valor, mochila, C):\n",
    "    valorAtual = 0\n",
    "    if len(peso) != len(mochila):\n",
    "        return -1\n",
    "    for i in range(0, len(mochila)):\n",
    "        valorAtual += valor[i] * int(mochila[i])\n",
    "    return valorAtual if getPeso(peso, mochila) <= C else (-1)*valorAtual"
   ]
  },
  {
   "cell_type": "code",
   "execution_count": null,
   "id": "bf86d47c",
   "metadata": {},
   "outputs": [],
   "source": [
    "def calculaFitness(populacao):\n",
    "  ret = 0\n",
    "  for elemento in populacao:\n",
    "    ret = ret + elemento[2]\n",
    "  return ret"
   ]
  },
  {
   "cell_type": "code",
   "execution_count": null,
   "id": "d71474b1",
   "metadata": {},
   "outputs": [],
   "source": [
    "def geraPopulacaoInicial(p, v, C, tam):\n",
    "  populacao = []\n",
    "  for i in range(0, tam):\n",
    "    estadoAtual = random.randint(0, 2 ** len(p))\n",
    "    mAtual = bin(estadoAtual)[2:].zfill(len(p))\n",
    "    pAtual = getPeso(p, mAtual)\n",
    "    while pAtual > C:\n",
    "        estadoAtual = random.randint(0, 2 ** len(p))\n",
    "        mAtual = bin(estadoAtual)[2:].zfill(len(p))\n",
    "        pAtual = getPeso(p, mAtual)\n",
    "    vAtual = getValor(p, v, mAtual, C)\n",
    "    elemento = [mAtual, pAtual, vAtual]\n",
    "    populacao.append(elemento)\n",
    "  populacao = ordena(populacao)\n",
    "  return populacao, calculaFitness(populacao)\n"
   ]
  },
  {
   "cell_type": "code",
   "execution_count": null,
   "id": "bf194103",
   "metadata": {},
   "outputs": [],
   "source": [
    "def cruzamento(populacao, fitnessAtual, tam, p, v, C): # vetor ordenado do menor para o maior\n",
    "  percTotal  = 0\n",
    "  vetPerc    = []\n",
    "  popNova    = []\n",
    "  pontoDeCorte = random.randint(0, len(populacao[0][0]))\n",
    "  for elemento in populacao:\n",
    "    percTotal = percTotal + elemento[2]/fitnessAtual\n",
    "    vetPerc.append(percTotal)\n",
    "  for i in range(0, tam // 2):\n",
    "    v = random.random()\n",
    "    iv1, iv2 = 0, 0\n",
    "    for j in range(0, len(vetPerc)):\n",
    "      if v <= vetPerc[j]:\n",
    "        iv1 = j \n",
    "        break \n",
    "    while True:\n",
    "      v = random.random()\n",
    "      for j in range(0, len(vetPerc)):\n",
    "        if v <= vetPerc[j]:\n",
    "          iv2 = j\n",
    "          break\n",
    "      if iv1 != iv2:\n",
    "        break\n",
    "    m1, m2, n = \"\", \"\", len(populacao[0][0])\n",
    "    for j in range(0, n):\n",
    "      if j < pontoDeCorte:\n",
    "        m1 = m1 + populacao[iv1][0][j]\n",
    "        m2 = m2 + populacao[iv2][0][j]\n",
    "      else:\n",
    "        m1 = m1 + populacao[iv2][0][j]\n",
    "        m2 = m2 + populacao[iv1][0][j]\n",
    "    nElemento1 = [m1, getPeso(m1, p), getValor(p, v, m1, C)]  \n",
    "    nElemento2 = [m2, getPeso(m2, p), getValor(p, v, m2, C)]\n",
    "    popNova.append(nElemento1)\n",
    "    popNova.append(nElemento2)\n",
    "  return popNova "
   ]
  },
  {
   "cell_type": "code",
   "execution_count": null,
   "id": "022f5141",
   "metadata": {},
   "outputs": [],
   "source": [
    "def mutacao(populacao, percMutacao, p, v, C):\n",
    "  qtd = math.ceil(percMutacao * len(populacao) / 100)\n",
    "  for i in range(0, qtd):\n",
    "    j = random.randint(0, len(populacao) - 1)\n",
    "    k = random.randint(0, len(populacao[0][0] - 1))\n",
    "    elemento = populacao[j][0]\n",
    "    nElemento = \"\"\n",
    "    for l in range(0, len(elemento)):\n",
    "      if l != k:\n",
    "        nElemento = nElemento + elemento[l]\n",
    "      else:\n",
    "        nElemento = nElemento + \"0\" if elemento[l] == \"1\" else \"1\"\n",
    "    populacao[j] = [nElemento, getPeso(p, nElemento), getValor(p, v, nElemento, C)]\n",
    "  return populacao"
   ]
  },
  {
   "cell_type": "code",
   "execution_count": null,
   "id": "6008acd5",
   "metadata": {},
   "outputs": [],
   "source": [
    "def ag(p, v, C, tam, percMutacao):\n",
    "  fitnessAtual = 0\n",
    "  geracaoAtual = []\n",
    "  populacao, fitnessGeracao = geraPopulacaoInicial(p, v, C, tam)\n",
    "  while fitnessGeracao > fitnessAtual:\n",
    "    geracaoAtual   = populacao\n",
    "    fitnessAtual   = fitnessGeracao\n",
    "    geracaoAtual   = cruzamento(geracaoAtual, fitnessAtual, p, v, C)\n",
    "    geracaoAtual   = mutacao(geracaoAtual, percMutacao, p, v, C)\n",
    "    geracaoAtual   = preSelecao(geracaoAtual)\n",
    "    populacao      = selecao(populacao, geracaoAtual, tam)\n",
    "    fitnessGeracao = calculaFitness(populacao)\n"
   ]
  }
 ],
 "metadata": {
  "kernelspec": {
   "display_name": "Python 3",
   "language": "python",
   "name": "python3"
  },
  "language_info": {
   "codemirror_mode": {
    "name": "ipython",
    "version": 3
   },
   "file_extension": ".py",
   "mimetype": "text/x-python",
   "name": "python",
   "nbconvert_exporter": "python",
   "pygments_lexer": "ipython3",
   "version": "3.10.5"
  }
 },
 "nbformat": 4,
 "nbformat_minor": 5
}
